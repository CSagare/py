{
 "cells": [
  {
   "cell_type": "code",
   "execution_count": 2,
   "metadata": {},
   "outputs": [],
   "source": [
    "import plotly.graph_objs as go\n"
   ]
  },
  {
   "cell_type": "code",
   "execution_count": 3,
   "metadata": {},
   "outputs": [],
   "source": [
    "# choropleth_map = go.Figure(\n",
    "#     data = {\n",
    "#         'type':'choropleth',\n",
    "#         'locationmode':'ISO-3',        \n",
    "#         'locations':['AL','CA','WA'],\n",
    "#         'colorscale':'Portland',            \n",
    "#         'text':['Alabama Population',\n",
    "#                 'California Population',\n",
    "#                 'Washington Population'],\n",
    "#         'z':[5024279,39538223,7705281],                  \n",
    "#         'colorbar':{'title':'Asia Population'}\n",
    "#     },     \n",
    "#     layout = {\n",
    "#       'geo':{\n",
    "#           'scope':'asia'\n",
    "#       }  \n",
    "#     })\n",
    "# choropleth_map"
   ]
  },
  {
   "cell_type": "code",
   "execution_count": 4,
   "metadata": {},
   "outputs": [
    {
     "data": {
      "text/html": [
       "<div>\n",
       "<style scoped>\n",
       "    .dataframe tbody tr th:only-of-type {\n",
       "        vertical-align: middle;\n",
       "    }\n",
       "\n",
       "    .dataframe tbody tr th {\n",
       "        vertical-align: top;\n",
       "    }\n",
       "\n",
       "    .dataframe thead th {\n",
       "        text-align: right;\n",
       "    }\n",
       "</style>\n",
       "<table border=\"1\" class=\"dataframe\">\n",
       "  <thead>\n",
       "    <tr style=\"text-align: right;\">\n",
       "      <th></th>\n",
       "      <th>SN</th>\n",
       "      <th>Country</th>\n",
       "      <th>Population\\n(2020)</th>\n",
       "      <th>Yearly\\nChange</th>\n",
       "      <th>Net\\nChange</th>\n",
       "      <th>Density\\n(P/Km²)</th>\n",
       "      <th>Land Area\\n(Km²)</th>\n",
       "      <th>Migrants\\n(net)</th>\n",
       "      <th>Fert.\\nRate</th>\n",
       "      <th>Med.\\nAge</th>\n",
       "      <th>Urban\\nPop %</th>\n",
       "      <th>World\\nShare</th>\n",
       "    </tr>\n",
       "  </thead>\n",
       "  <tbody>\n",
       "    <tr>\n",
       "      <th>0</th>\n",
       "      <td>1</td>\n",
       "      <td>China</td>\n",
       "      <td>1439323776</td>\n",
       "      <td>0.39 %</td>\n",
       "      <td>5540090</td>\n",
       "      <td>153</td>\n",
       "      <td>9388211</td>\n",
       "      <td>-348399</td>\n",
       "      <td>1.7</td>\n",
       "      <td>38</td>\n",
       "      <td>61 %</td>\n",
       "      <td>18.47 %</td>\n",
       "    </tr>\n",
       "    <tr>\n",
       "      <th>1</th>\n",
       "      <td>2</td>\n",
       "      <td>India</td>\n",
       "      <td>1380004385</td>\n",
       "      <td>0.99 %</td>\n",
       "      <td>13586631</td>\n",
       "      <td>464</td>\n",
       "      <td>2973190</td>\n",
       "      <td>-532687</td>\n",
       "      <td>2.2</td>\n",
       "      <td>28</td>\n",
       "      <td>35 %</td>\n",
       "      <td>17.70 %</td>\n",
       "    </tr>\n",
       "    <tr>\n",
       "      <th>2</th>\n",
       "      <td>3</td>\n",
       "      <td>Indonesia</td>\n",
       "      <td>273523615</td>\n",
       "      <td>1.07 %</td>\n",
       "      <td>2898047</td>\n",
       "      <td>151</td>\n",
       "      <td>1811570</td>\n",
       "      <td>-98955</td>\n",
       "      <td>2.3</td>\n",
       "      <td>30</td>\n",
       "      <td>56 %</td>\n",
       "      <td>3.51 %</td>\n",
       "    </tr>\n",
       "    <tr>\n",
       "      <th>3</th>\n",
       "      <td>4</td>\n",
       "      <td>Pakistan</td>\n",
       "      <td>220892340</td>\n",
       "      <td>2.00 %</td>\n",
       "      <td>4327022</td>\n",
       "      <td>287</td>\n",
       "      <td>770880</td>\n",
       "      <td>-233379</td>\n",
       "      <td>3.6</td>\n",
       "      <td>23</td>\n",
       "      <td>35 %</td>\n",
       "      <td>2.83 %</td>\n",
       "    </tr>\n",
       "    <tr>\n",
       "      <th>4</th>\n",
       "      <td>5</td>\n",
       "      <td>Bangladesh</td>\n",
       "      <td>164689383</td>\n",
       "      <td>1.01 %</td>\n",
       "      <td>1643222</td>\n",
       "      <td>1265</td>\n",
       "      <td>130170</td>\n",
       "      <td>-369501</td>\n",
       "      <td>2.1</td>\n",
       "      <td>28</td>\n",
       "      <td>39 %</td>\n",
       "      <td>2.11 %</td>\n",
       "    </tr>\n",
       "  </tbody>\n",
       "</table>\n",
       "</div>"
      ],
      "text/plain": [
       "   SN     Country  Population\\n(2020) Yearly\\nChange  Net\\nChange  \\\n",
       "0   1       China          1439323776         0.39 %      5540090   \n",
       "1   2       India          1380004385         0.99 %     13586631   \n",
       "2   3   Indonesia           273523615         1.07 %      2898047   \n",
       "3   4    Pakistan           220892340         2.00 %      4327022   \n",
       "4   5  Bangladesh           164689383         1.01 %      1643222   \n",
       "\n",
       "   Density\\n(P/Km²)  Land Area\\n(Km²)  Migrants\\n(net)  Fert.\\nRate  \\\n",
       "0               153           9388211          -348399          1.7   \n",
       "1               464           2973190          -532687          2.2   \n",
       "2               151           1811570           -98955          2.3   \n",
       "3               287            770880          -233379          3.6   \n",
       "4              1265            130170          -369501          2.1   \n",
       "\n",
       "   Med.\\nAge Urban\\nPop % World\\nShare  \n",
       "0         38         61 %      18.47 %  \n",
       "1         28         35 %      17.70 %  \n",
       "2         30         56 %       3.51 %  \n",
       "3         23         35 %       2.83 %  \n",
       "4         28         39 %       2.11 %  "
      ]
     },
     "execution_count": 4,
     "metadata": {},
     "output_type": "execute_result"
    }
   ],
   "source": [
    "import pandas as pd\n",
    "df = \\\n",
    " pd.read_csv('data.csv')\n",
    "df.head()"
   ]
  },
  {
   "cell_type": "code",
   "execution_count": 5,
   "metadata": {},
   "outputs": [
    {
     "data": {
      "text/html": [
       "<div>\n",
       "<style scoped>\n",
       "    .dataframe tbody tr th:only-of-type {\n",
       "        vertical-align: middle;\n",
       "    }\n",
       "\n",
       "    .dataframe tbody tr th {\n",
       "        vertical-align: top;\n",
       "    }\n",
       "\n",
       "    .dataframe thead th {\n",
       "        text-align: right;\n",
       "    }\n",
       "</style>\n",
       "<table border=\"1\" class=\"dataframe\">\n",
       "  <thead>\n",
       "    <tr style=\"text-align: right;\">\n",
       "      <th></th>\n",
       "      <th>Country</th>\n",
       "      <th>Abb</th>\n",
       "      <th>Code</th>\n",
       "    </tr>\n",
       "  </thead>\n",
       "  <tbody>\n",
       "    <tr>\n",
       "      <th>0</th>\n",
       "      <td>Country</td>\n",
       "      <td>abbrev</td>\n",
       "      <td>code</td>\n",
       "    </tr>\n",
       "    <tr>\n",
       "      <th>1</th>\n",
       "      <td>China</td>\n",
       "      <td>cn.</td>\n",
       "      <td>CHN</td>\n",
       "    </tr>\n",
       "    <tr>\n",
       "      <th>2</th>\n",
       "      <td>Indonesia</td>\n",
       "      <td>id</td>\n",
       "      <td>IDN</td>\n",
       "    </tr>\n",
       "    <tr>\n",
       "      <th>3</th>\n",
       "      <td>India</td>\n",
       "      <td>in</td>\n",
       "      <td>IND</td>\n",
       "    </tr>\n",
       "    <tr>\n",
       "      <th>4</th>\n",
       "      <td>Pakistan</td>\n",
       "      <td>pk</td>\n",
       "      <td>PAK</td>\n",
       "    </tr>\n",
       "  </tbody>\n",
       "</table>\n",
       "</div>"
      ],
      "text/plain": [
       "     Country     Abb  Code\n",
       "0    Country  abbrev  code\n",
       "1      China     cn.   CHN\n",
       "2  Indonesia      id   IDN\n",
       "3      India     in    IND\n",
       "4   Pakistan      pk   PAK"
      ]
     },
     "execution_count": 5,
     "metadata": {},
     "output_type": "execute_result"
    }
   ],
   "source": [
    "df_state_mapping = pd.read_csv('csvData.csv', \n",
    "                               header=None, \n",
    "                               names=['Country','Abb', 'Code'])\n",
    "df_state_mapping.head()"
   ]
  },
  {
   "cell_type": "code",
   "execution_count": 6,
   "metadata": {},
   "outputs": [
    {
     "data": {
      "text/html": [
       "<div>\n",
       "<style scoped>\n",
       "    .dataframe tbody tr th:only-of-type {\n",
       "        vertical-align: middle;\n",
       "    }\n",
       "\n",
       "    .dataframe tbody tr th {\n",
       "        vertical-align: top;\n",
       "    }\n",
       "\n",
       "    .dataframe thead th {\n",
       "        text-align: right;\n",
       "    }\n",
       "</style>\n",
       "<table border=\"1\" class=\"dataframe\">\n",
       "  <thead>\n",
       "    <tr style=\"text-align: right;\">\n",
       "      <th></th>\n",
       "      <th>SN</th>\n",
       "      <th>Country</th>\n",
       "      <th>Population\\n(2020)</th>\n",
       "      <th>Yearly\\nChange</th>\n",
       "      <th>Net\\nChange</th>\n",
       "      <th>Density\\n(P/Km²)</th>\n",
       "      <th>Land Area\\n(Km²)</th>\n",
       "      <th>Migrants\\n(net)</th>\n",
       "      <th>Fert.\\nRate</th>\n",
       "      <th>Med.\\nAge</th>\n",
       "      <th>Urban\\nPop %</th>\n",
       "      <th>World\\nShare</th>\n",
       "      <th>Abb</th>\n",
       "      <th>Code</th>\n",
       "    </tr>\n",
       "  </thead>\n",
       "  <tbody>\n",
       "    <tr>\n",
       "      <th>0</th>\n",
       "      <td>1</td>\n",
       "      <td>China</td>\n",
       "      <td>1439323776</td>\n",
       "      <td>0.39 %</td>\n",
       "      <td>5540090</td>\n",
       "      <td>153</td>\n",
       "      <td>9388211</td>\n",
       "      <td>-348399</td>\n",
       "      <td>1.7</td>\n",
       "      <td>38</td>\n",
       "      <td>61 %</td>\n",
       "      <td>18.47 %</td>\n",
       "      <td>cn.</td>\n",
       "      <td>CHN</td>\n",
       "    </tr>\n",
       "    <tr>\n",
       "      <th>1</th>\n",
       "      <td>2</td>\n",
       "      <td>India</td>\n",
       "      <td>1380004385</td>\n",
       "      <td>0.99 %</td>\n",
       "      <td>13586631</td>\n",
       "      <td>464</td>\n",
       "      <td>2973190</td>\n",
       "      <td>-532687</td>\n",
       "      <td>2.2</td>\n",
       "      <td>28</td>\n",
       "      <td>35 %</td>\n",
       "      <td>17.70 %</td>\n",
       "      <td>in</td>\n",
       "      <td>IND</td>\n",
       "    </tr>\n",
       "    <tr>\n",
       "      <th>2</th>\n",
       "      <td>3</td>\n",
       "      <td>Indonesia</td>\n",
       "      <td>273523615</td>\n",
       "      <td>1.07 %</td>\n",
       "      <td>2898047</td>\n",
       "      <td>151</td>\n",
       "      <td>1811570</td>\n",
       "      <td>-98955</td>\n",
       "      <td>2.3</td>\n",
       "      <td>30</td>\n",
       "      <td>56 %</td>\n",
       "      <td>3.51 %</td>\n",
       "      <td>id</td>\n",
       "      <td>IDN</td>\n",
       "    </tr>\n",
       "    <tr>\n",
       "      <th>3</th>\n",
       "      <td>4</td>\n",
       "      <td>Pakistan</td>\n",
       "      <td>220892340</td>\n",
       "      <td>2.00 %</td>\n",
       "      <td>4327022</td>\n",
       "      <td>287</td>\n",
       "      <td>770880</td>\n",
       "      <td>-233379</td>\n",
       "      <td>3.6</td>\n",
       "      <td>23</td>\n",
       "      <td>35 %</td>\n",
       "      <td>2.83 %</td>\n",
       "      <td>pk</td>\n",
       "      <td>PAK</td>\n",
       "    </tr>\n",
       "    <tr>\n",
       "      <th>4</th>\n",
       "      <td>5</td>\n",
       "      <td>Bangladesh</td>\n",
       "      <td>164689383</td>\n",
       "      <td>1.01 %</td>\n",
       "      <td>1643222</td>\n",
       "      <td>1265</td>\n",
       "      <td>130170</td>\n",
       "      <td>-369501</td>\n",
       "      <td>2.1</td>\n",
       "      <td>28</td>\n",
       "      <td>39 %</td>\n",
       "      <td>2.11 %</td>\n",
       "      <td>Va.</td>\n",
       "      <td>BGD</td>\n",
       "    </tr>\n",
       "  </tbody>\n",
       "</table>\n",
       "</div>"
      ],
      "text/plain": [
       "   SN     Country  Population\\n(2020) Yearly\\nChange  Net\\nChange  \\\n",
       "0   1       China          1439323776         0.39 %      5540090   \n",
       "1   2       India          1380004385         0.99 %     13586631   \n",
       "2   3   Indonesia           273523615         1.07 %      2898047   \n",
       "3   4    Pakistan           220892340         2.00 %      4327022   \n",
       "4   5  Bangladesh           164689383         1.01 %      1643222   \n",
       "\n",
       "   Density\\n(P/Km²)  Land Area\\n(Km²)  Migrants\\n(net)  Fert.\\nRate  \\\n",
       "0               153           9388211          -348399          1.7   \n",
       "1               464           2973190          -532687          2.2   \n",
       "2               151           1811570           -98955          2.3   \n",
       "3               287            770880          -233379          3.6   \n",
       "4              1265            130170          -369501          2.1   \n",
       "\n",
       "   Med.\\nAge Urban\\nPop % World\\nShare  Abb Code  \n",
       "0         38         61 %      18.47 %  cn.  CHN  \n",
       "1         28         35 %      17.70 %  in   IND  \n",
       "2         30         56 %       3.51 %   id  IDN  \n",
       "3         23         35 %       2.83 %   pk  PAK  \n",
       "4         28         39 %       2.11 %  Va.  BGD  "
      ]
     },
     "execution_count": 6,
     "metadata": {},
     "output_type": "execute_result"
    }
   ],
   "source": [
    "df = df.merge(df_state_mapping, on='Country')\n",
    "df.head()"
   ]
  },
  {
   "cell_type": "code",
   "execution_count": null,
   "metadata": {},
   "outputs": [],
   "source": []
  },
  {
   "cell_type": "code",
   "execution_count": null,
   "metadata": {},
   "outputs": [],
   "source": []
  },
  {
   "cell_type": "code",
   "execution_count": 8,
   "metadata": {},
   "outputs": [
    {
     "ename": "SyntaxError",
     "evalue": "cannot assign to literal here. Maybe you meant '==' instead of '='? (4198818552.py, line 21)",
     "output_type": "error",
     "traceback": [
      "\u001b[0;36m  Cell \u001b[0;32mIn [8], line 21\u001b[0;36m\u001b[0m\n\u001b[0;31m    'autosize'=False,\u001b[0m\n\u001b[0m    ^\u001b[0m\n\u001b[0;31mSyntaxError\u001b[0m\u001b[0;31m:\u001b[0m cannot assign to literal here. Maybe you meant '==' instead of '='?\n"
     ]
    }
   ],
   "source": [
    "# main?\n",
    "\n",
    "# choropleth_map = go.Figure(\n",
    "#     data = {\n",
    "#         'type':'choropleth',\n",
    "#         'locations':df['Code'],\n",
    "#         'locationmode':'ISO-3',        \n",
    "#         'colorscale':'portland',            \n",
    "#         'text':df['Country'],\n",
    "#         'z':df['Population\\n(2020)'],\n",
    "#         'colorbar':{'title':'Asia Population'},\n",
    "#         'marker': {\n",
    "#             'line': {\n",
    "#                 'color':'rgb(255,255,255)',\n",
    "#                 'width':1\n",
    "#             }\n",
    "#         }\n",
    "#     },     \n",
    "#     layout = {      \n",
    "#       'geo':{\n",
    "#     'autosize'=False,\n",
    "#           'scope':'asia', \n",
    "      \n",
    "#           'showlakes': True,\n",
    "#           'lakecolor':'rgb(85,173,240)',\n",
    "#           'showrivers': True,                     \n",
    "#           'rivercolor':'rgb(150,49,50)',\n",
    "#       }  \n",
    "#     })\n",
    "#     update_layout(\n",
    "#     width=500,\n",
    "#     height=500,\n",
    "#     margin=dict(\n",
    "#         l=50,\n",
    "#         r=50,\n",
    "#         b=100,\n",
    "#         t=100,\n",
    "#         pad=4\n",
    "#     ),\n",
    "#     paper_bgcolor=\"LightSteelBlue\",\n",
    "# )\n",
    "# choropleth_map"
   ]
  },
  {
   "cell_type": "code",
   "execution_count": 10,
   "metadata": {},
   "outputs": [],
   "source": [
    "# #main\n",
    "# choropleth_map = go.Figure(\n",
    "#     data = {\n",
    "#         'type':'choropleth',\n",
    "#         'locations':df['Country'],\n",
    "#         'locationmode':'ISO-3',\n",
    "#         'colorscale':'Portland',\n",
    "#         'z':df['Population\\n(2020)'],\n",
    "#         'colorbar':{'title':'Asia Population'},\n",
    "#         'marker': {\n",
    "#             'line': {\n",
    "#                 'color':'rgb(255,255,255)',\n",
    "#                 'width':2\n",
    "#             }\n",
    "#         }\n",
    "#     },     \n",
    "#     layout = {      \n",
    "#       'geo':{\n",
    "#           'scope':'asia', \n",
    "#       }  \n",
    "#     })\n",
    "# choropleth_map"
   ]
  },
  {
   "cell_type": "code",
   "execution_count": 11,
   "metadata": {},
   "outputs": [
    {
     "data": {
      "application/vnd.plotly.v1+json": {
       "config": {
        "plotlyServerURL": "https://plot.ly"
       },
       "data": [
        {
         "colorbar": {
          "thickness": 20,
          "title": {
           "text": "Asia Population"
          }
         },
         "colorscale": [
          [
           0,
           "rgb(12,51,131)"
          ],
          [
           0.25,
           "rgb(10,136,186)"
          ],
          [
           0.5,
           "rgb(242,211,56)"
          ],
          [
           0.75,
           "rgb(242,143,56)"
          ],
          [
           1,
           "rgb(217,30,30)"
          ]
         ],
         "locationmode": "ISO-3",
         "locations": [
          "CHN",
          "IND",
          "IDN",
          "PAK",
          "BGD",
          "JPN",
          "PHL",
          "VNM",
          "TUR",
          "IRN",
          "THA",
          "MMR",
          "KOR",
          "IRQ",
          "AFG",
          "SAU",
          "UZB",
          "MYS",
          "YEM",
          "NPL",
          "PRK",
          "TWN",
          "LKA",
          "KAZ",
          "SYR",
          "KHM",
          "JOR",
          "AZE",
          "ARE",
          "TJK",
          "ISR",
          "HKG",
          "LAO",
          "LBN",
          "KGZ",
          "TKM",
          "SGP",
          "PSE",
          "OMN",
          "KWT",
          "GEO",
          "MNG",
          "ARM",
          "QAT",
          "BHR",
          "TLS",
          "CYP",
          "BTN",
          "MAC",
          "MDV",
          "BRU"
         ],
         "marker": {
          "line": {
           "color": "rgb(255,255,255)",
           "width": 1
          }
         },
         "text": [
          "China",
          "India",
          "Indonesia",
          "Pakistan",
          "Bangladesh",
          "Japan",
          "Philippines",
          "Vietnam",
          "Turkey",
          "Iran",
          "Thailand",
          "Myanmar",
          "South Korea",
          "Iraq",
          "Afghanistan",
          "Saudi Arabia",
          "Uzbekistan",
          "Malaysia",
          "Yemen",
          "Nepal",
          "North Korea",
          "Taiwan",
          "Sri Lanka",
          "Kazakhstan",
          "Syria",
          "Cambodia",
          "Jordan",
          "Azerbaijan",
          "United Arab Emirates",
          "Tajikistan",
          "Israel",
          "Hong Kong",
          "Laos",
          "Lebanon",
          "Kyrgyzstan",
          "Turkmenistan",
          "Singapore",
          "State of Palestine",
          "Oman",
          "Kuwait",
          "Georgia",
          "Mongolia",
          "Armenia",
          "Qatar",
          "Bahrain",
          "Timor-Leste",
          "Cyprus",
          "Bhutan",
          "Macao",
          "Maldives",
          "Brunei"
         ],
         "type": "choropleth",
         "z": [
          1439323776,
          1380004385,
          273523615,
          220892340,
          164689383,
          126476461,
          109581078,
          97338579,
          84339067,
          83992949,
          69799978,
          54409800,
          51269185,
          40222493,
          38928346,
          34813871,
          33469203,
          32365999,
          29825964,
          29136808,
          25778816,
          23816775,
          21413249,
          18776707,
          17500658,
          16718965,
          10203134,
          10139177,
          9890402,
          9537645,
          8655535,
          7496981,
          7275560,
          6825445,
          6524195,
          6031200,
          5850342,
          5101414,
          5106626,
          4270571,
          3989167,
          3278290,
          2963243,
          2881053,
          1701575,
          1318445,
          1207359,
          771608,
          649335,
          540544,
          437479
         ]
        }
       ],
       "layout": {
        "geo": {
         "lakecolor": "rgb(85,173,240)",
         "rivercolor": "rgb(150,49,50)",
         "scope": "asia",
         "showlakes": true,
         "showrivers": true
        },
        "template": {
         "data": {
          "bar": [
           {
            "error_x": {
             "color": "#2a3f5f"
            },
            "error_y": {
             "color": "#2a3f5f"
            },
            "marker": {
             "line": {
              "color": "#E5ECF6",
              "width": 0.5
             },
             "pattern": {
              "fillmode": "overlay",
              "size": 10,
              "solidity": 0.2
             }
            },
            "type": "bar"
           }
          ],
          "barpolar": [
           {
            "marker": {
             "line": {
              "color": "#E5ECF6",
              "width": 0.5
             },
             "pattern": {
              "fillmode": "overlay",
              "size": 10,
              "solidity": 0.2
             }
            },
            "type": "barpolar"
           }
          ],
          "carpet": [
           {
            "aaxis": {
             "endlinecolor": "#2a3f5f",
             "gridcolor": "white",
             "linecolor": "white",
             "minorgridcolor": "white",
             "startlinecolor": "#2a3f5f"
            },
            "baxis": {
             "endlinecolor": "#2a3f5f",
             "gridcolor": "white",
             "linecolor": "white",
             "minorgridcolor": "white",
             "startlinecolor": "#2a3f5f"
            },
            "type": "carpet"
           }
          ],
          "choropleth": [
           {
            "colorbar": {
             "outlinewidth": 0,
             "ticks": ""
            },
            "type": "choropleth"
           }
          ],
          "contour": [
           {
            "colorbar": {
             "outlinewidth": 0,
             "ticks": ""
            },
            "colorscale": [
             [
              0,
              "#0d0887"
             ],
             [
              0.1111111111111111,
              "#46039f"
             ],
             [
              0.2222222222222222,
              "#7201a8"
             ],
             [
              0.3333333333333333,
              "#9c179e"
             ],
             [
              0.4444444444444444,
              "#bd3786"
             ],
             [
              0.5555555555555556,
              "#d8576b"
             ],
             [
              0.6666666666666666,
              "#ed7953"
             ],
             [
              0.7777777777777778,
              "#fb9f3a"
             ],
             [
              0.8888888888888888,
              "#fdca26"
             ],
             [
              1,
              "#f0f921"
             ]
            ],
            "type": "contour"
           }
          ],
          "contourcarpet": [
           {
            "colorbar": {
             "outlinewidth": 0,
             "ticks": ""
            },
            "type": "contourcarpet"
           }
          ],
          "heatmap": [
           {
            "colorbar": {
             "outlinewidth": 0,
             "ticks": ""
            },
            "colorscale": [
             [
              0,
              "#0d0887"
             ],
             [
              0.1111111111111111,
              "#46039f"
             ],
             [
              0.2222222222222222,
              "#7201a8"
             ],
             [
              0.3333333333333333,
              "#9c179e"
             ],
             [
              0.4444444444444444,
              "#bd3786"
             ],
             [
              0.5555555555555556,
              "#d8576b"
             ],
             [
              0.6666666666666666,
              "#ed7953"
             ],
             [
              0.7777777777777778,
              "#fb9f3a"
             ],
             [
              0.8888888888888888,
              "#fdca26"
             ],
             [
              1,
              "#f0f921"
             ]
            ],
            "type": "heatmap"
           }
          ],
          "heatmapgl": [
           {
            "colorbar": {
             "outlinewidth": 0,
             "ticks": ""
            },
            "colorscale": [
             [
              0,
              "#0d0887"
             ],
             [
              0.1111111111111111,
              "#46039f"
             ],
             [
              0.2222222222222222,
              "#7201a8"
             ],
             [
              0.3333333333333333,
              "#9c179e"
             ],
             [
              0.4444444444444444,
              "#bd3786"
             ],
             [
              0.5555555555555556,
              "#d8576b"
             ],
             [
              0.6666666666666666,
              "#ed7953"
             ],
             [
              0.7777777777777778,
              "#fb9f3a"
             ],
             [
              0.8888888888888888,
              "#fdca26"
             ],
             [
              1,
              "#f0f921"
             ]
            ],
            "type": "heatmapgl"
           }
          ],
          "histogram": [
           {
            "marker": {
             "pattern": {
              "fillmode": "overlay",
              "size": 10,
              "solidity": 0.2
             }
            },
            "type": "histogram"
           }
          ],
          "histogram2d": [
           {
            "colorbar": {
             "outlinewidth": 0,
             "ticks": ""
            },
            "colorscale": [
             [
              0,
              "#0d0887"
             ],
             [
              0.1111111111111111,
              "#46039f"
             ],
             [
              0.2222222222222222,
              "#7201a8"
             ],
             [
              0.3333333333333333,
              "#9c179e"
             ],
             [
              0.4444444444444444,
              "#bd3786"
             ],
             [
              0.5555555555555556,
              "#d8576b"
             ],
             [
              0.6666666666666666,
              "#ed7953"
             ],
             [
              0.7777777777777778,
              "#fb9f3a"
             ],
             [
              0.8888888888888888,
              "#fdca26"
             ],
             [
              1,
              "#f0f921"
             ]
            ],
            "type": "histogram2d"
           }
          ],
          "histogram2dcontour": [
           {
            "colorbar": {
             "outlinewidth": 0,
             "ticks": ""
            },
            "colorscale": [
             [
              0,
              "#0d0887"
             ],
             [
              0.1111111111111111,
              "#46039f"
             ],
             [
              0.2222222222222222,
              "#7201a8"
             ],
             [
              0.3333333333333333,
              "#9c179e"
             ],
             [
              0.4444444444444444,
              "#bd3786"
             ],
             [
              0.5555555555555556,
              "#d8576b"
             ],
             [
              0.6666666666666666,
              "#ed7953"
             ],
             [
              0.7777777777777778,
              "#fb9f3a"
             ],
             [
              0.8888888888888888,
              "#fdca26"
             ],
             [
              1,
              "#f0f921"
             ]
            ],
            "type": "histogram2dcontour"
           }
          ],
          "mesh3d": [
           {
            "colorbar": {
             "outlinewidth": 0,
             "ticks": ""
            },
            "type": "mesh3d"
           }
          ],
          "parcoords": [
           {
            "line": {
             "colorbar": {
              "outlinewidth": 0,
              "ticks": ""
             }
            },
            "type": "parcoords"
           }
          ],
          "pie": [
           {
            "automargin": true,
            "type": "pie"
           }
          ],
          "scatter": [
           {
            "fillpattern": {
             "fillmode": "overlay",
             "size": 10,
             "solidity": 0.2
            },
            "type": "scatter"
           }
          ],
          "scatter3d": [
           {
            "line": {
             "colorbar": {
              "outlinewidth": 0,
              "ticks": ""
             }
            },
            "marker": {
             "colorbar": {
              "outlinewidth": 0,
              "ticks": ""
             }
            },
            "type": "scatter3d"
           }
          ],
          "scattercarpet": [
           {
            "marker": {
             "colorbar": {
              "outlinewidth": 0,
              "ticks": ""
             }
            },
            "type": "scattercarpet"
           }
          ],
          "scattergeo": [
           {
            "marker": {
             "colorbar": {
              "outlinewidth": 0,
              "ticks": ""
             }
            },
            "type": "scattergeo"
           }
          ],
          "scattergl": [
           {
            "marker": {
             "colorbar": {
              "outlinewidth": 0,
              "ticks": ""
             }
            },
            "type": "scattergl"
           }
          ],
          "scattermapbox": [
           {
            "marker": {
             "colorbar": {
              "outlinewidth": 0,
              "ticks": ""
             }
            },
            "type": "scattermapbox"
           }
          ],
          "scatterpolar": [
           {
            "marker": {
             "colorbar": {
              "outlinewidth": 0,
              "ticks": ""
             }
            },
            "type": "scatterpolar"
           }
          ],
          "scatterpolargl": [
           {
            "marker": {
             "colorbar": {
              "outlinewidth": 0,
              "ticks": ""
             }
            },
            "type": "scatterpolargl"
           }
          ],
          "scatterternary": [
           {
            "marker": {
             "colorbar": {
              "outlinewidth": 0,
              "ticks": ""
             }
            },
            "type": "scatterternary"
           }
          ],
          "surface": [
           {
            "colorbar": {
             "outlinewidth": 0,
             "ticks": ""
            },
            "colorscale": [
             [
              0,
              "#0d0887"
             ],
             [
              0.1111111111111111,
              "#46039f"
             ],
             [
              0.2222222222222222,
              "#7201a8"
             ],
             [
              0.3333333333333333,
              "#9c179e"
             ],
             [
              0.4444444444444444,
              "#bd3786"
             ],
             [
              0.5555555555555556,
              "#d8576b"
             ],
             [
              0.6666666666666666,
              "#ed7953"
             ],
             [
              0.7777777777777778,
              "#fb9f3a"
             ],
             [
              0.8888888888888888,
              "#fdca26"
             ],
             [
              1,
              "#f0f921"
             ]
            ],
            "type": "surface"
           }
          ],
          "table": [
           {
            "cells": {
             "fill": {
              "color": "#EBF0F8"
             },
             "line": {
              "color": "white"
             }
            },
            "header": {
             "fill": {
              "color": "#C8D4E3"
             },
             "line": {
              "color": "white"
             }
            },
            "type": "table"
           }
          ]
         },
         "layout": {
          "annotationdefaults": {
           "arrowcolor": "#2a3f5f",
           "arrowhead": 0,
           "arrowwidth": 1
          },
          "autotypenumbers": "strict",
          "coloraxis": {
           "colorbar": {
            "outlinewidth": 0,
            "ticks": ""
           }
          },
          "colorscale": {
           "diverging": [
            [
             0,
             "#8e0152"
            ],
            [
             0.1,
             "#c51b7d"
            ],
            [
             0.2,
             "#de77ae"
            ],
            [
             0.3,
             "#f1b6da"
            ],
            [
             0.4,
             "#fde0ef"
            ],
            [
             0.5,
             "#f7f7f7"
            ],
            [
             0.6,
             "#e6f5d0"
            ],
            [
             0.7,
             "#b8e186"
            ],
            [
             0.8,
             "#7fbc41"
            ],
            [
             0.9,
             "#4d9221"
            ],
            [
             1,
             "#276419"
            ]
           ],
           "sequential": [
            [
             0,
             "#0d0887"
            ],
            [
             0.1111111111111111,
             "#46039f"
            ],
            [
             0.2222222222222222,
             "#7201a8"
            ],
            [
             0.3333333333333333,
             "#9c179e"
            ],
            [
             0.4444444444444444,
             "#bd3786"
            ],
            [
             0.5555555555555556,
             "#d8576b"
            ],
            [
             0.6666666666666666,
             "#ed7953"
            ],
            [
             0.7777777777777778,
             "#fb9f3a"
            ],
            [
             0.8888888888888888,
             "#fdca26"
            ],
            [
             1,
             "#f0f921"
            ]
           ],
           "sequentialminus": [
            [
             0,
             "#0d0887"
            ],
            [
             0.1111111111111111,
             "#46039f"
            ],
            [
             0.2222222222222222,
             "#7201a8"
            ],
            [
             0.3333333333333333,
             "#9c179e"
            ],
            [
             0.4444444444444444,
             "#bd3786"
            ],
            [
             0.5555555555555556,
             "#d8576b"
            ],
            [
             0.6666666666666666,
             "#ed7953"
            ],
            [
             0.7777777777777778,
             "#fb9f3a"
            ],
            [
             0.8888888888888888,
             "#fdca26"
            ],
            [
             1,
             "#f0f921"
            ]
           ]
          },
          "colorway": [
           "#636efa",
           "#EF553B",
           "#00cc96",
           "#ab63fa",
           "#FFA15A",
           "#19d3f3",
           "#FF6692",
           "#B6E880",
           "#FF97FF",
           "#FECB52"
          ],
          "font": {
           "color": "#2a3f5f"
          },
          "geo": {
           "bgcolor": "white",
           "lakecolor": "white",
           "landcolor": "#E5ECF6",
           "showlakes": true,
           "showland": true,
           "subunitcolor": "white"
          },
          "hoverlabel": {
           "align": "left"
          },
          "hovermode": "closest",
          "mapbox": {
           "style": "light"
          },
          "paper_bgcolor": "white",
          "plot_bgcolor": "#E5ECF6",
          "polar": {
           "angularaxis": {
            "gridcolor": "white",
            "linecolor": "white",
            "ticks": ""
           },
           "bgcolor": "#E5ECF6",
           "radialaxis": {
            "gridcolor": "white",
            "linecolor": "white",
            "ticks": ""
           }
          },
          "scene": {
           "xaxis": {
            "backgroundcolor": "#E5ECF6",
            "gridcolor": "white",
            "gridwidth": 2,
            "linecolor": "white",
            "showbackground": true,
            "ticks": "",
            "zerolinecolor": "white"
           },
           "yaxis": {
            "backgroundcolor": "#E5ECF6",
            "gridcolor": "white",
            "gridwidth": 2,
            "linecolor": "white",
            "showbackground": true,
            "ticks": "",
            "zerolinecolor": "white"
           },
           "zaxis": {
            "backgroundcolor": "#E5ECF6",
            "gridcolor": "white",
            "gridwidth": 2,
            "linecolor": "white",
            "showbackground": true,
            "ticks": "",
            "zerolinecolor": "white"
           }
          },
          "shapedefaults": {
           "line": {
            "color": "#2a3f5f"
           }
          },
          "ternary": {
           "aaxis": {
            "gridcolor": "white",
            "linecolor": "white",
            "ticks": ""
           },
           "baxis": {
            "gridcolor": "white",
            "linecolor": "white",
            "ticks": ""
           },
           "bgcolor": "#E5ECF6",
           "caxis": {
            "gridcolor": "white",
            "linecolor": "white",
            "ticks": ""
           }
          },
          "title": {
           "x": 0.05
          },
          "xaxis": {
           "automargin": true,
           "gridcolor": "white",
           "linecolor": "white",
           "ticks": "",
           "title": {
            "standoff": 15
           },
           "zerolinecolor": "white",
           "zerolinewidth": 2
          },
          "yaxis": {
           "automargin": true,
           "gridcolor": "white",
           "linecolor": "white",
           "ticks": "",
           "title": {
            "standoff": 15
           },
           "zerolinecolor": "white",
           "zerolinewidth": 2
          }
         }
        }
       }
      }
     },
     "metadata": {},
     "output_type": "display_data"
    }
   ],
   "source": [
    "choropleth_map = go.Figure(\n",
    "    data = {\n",
    "        'type':'choropleth',\n",
    "        'locations':df['Code'],\n",
    "        'locationmode':'ISO-3',        \n",
    "        'colorscale':'Portland',            \n",
    "        'text':df['Country'],\n",
    "        'z':df['Population\\n(2020)'],\n",
    "        'colorbar':{'title':'Asia Population', 'thickness':20},\n",
    "        'marker': {\n",
    "            'line': {\n",
    "                'color':'rgb(255,255,255)',\n",
    "                'width':1\n",
    "            }\n",
    "        }\n",
    "    },     \n",
    "    layout = {      \n",
    "      'geo':{\n",
    "        # 'autosize':False,\n",
    "        # 'width':1000,\n",
    "        # 'height':1000,\n",
    "          'scope':'asia', \n",
    "          'showlakes': True,\n",
    "          'lakecolor':'rgb(85,173,240)',\n",
    "              'showrivers': True,                     \n",
    "          'rivercolor':'rgb(150,49,50)',\n",
    "      }  \n",
    "    })\n",
    "choropleth_map"
   ]
  },
  {
   "cell_type": "code",
   "execution_count": null,
   "metadata": {},
   "outputs": [],
   "source": []
  },
  {
   "cell_type": "code",
   "execution_count": null,
   "metadata": {},
   "outputs": [],
   "source": []
  },
  {
   "cell_type": "code",
   "execution_count": null,
   "metadata": {},
   "outputs": [],
   "source": []
  },
  {
   "cell_type": "code",
   "execution_count": null,
   "metadata": {},
   "outputs": [],
   "source": []
  }
 ],
 "metadata": {
  "kernelspec": {
   "display_name": "Python 3.10.6 64-bit",
   "language": "python",
   "name": "python3"
  },
  "language_info": {
   "codemirror_mode": {
    "name": "ipython",
    "version": 3
   },
   "file_extension": ".py",
   "mimetype": "text/x-python",
   "name": "python",
   "nbconvert_exporter": "python",
   "pygments_lexer": "ipython3",
   "version": "3.10.6"
  },
  "orig_nbformat": 4,
  "vscode": {
   "interpreter": {
    "hash": "e7370f93d1d0cde622a1f8e1c04877d8463912d04d973331ad4851f04de6915a"
   }
  }
 },
 "nbformat": 4,
 "nbformat_minor": 2
}
